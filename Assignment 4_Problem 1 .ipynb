{
 "cells": [
  {
   "cell_type": "code",
   "execution_count": 60,
   "metadata": {},
   "outputs": [],
   "source": [
    "import keras\n",
    "from keras.preprocessing.image import ImageDataGenerator, load_img\n",
    "from keras.models import Sequential\n",
    "from keras.layers import Conv2D, MaxPooling2D\n",
    "from keras.layers import Activation, Dropout, Flatten, Dense\n",
    "from keras.models import load_model\n",
    "from keras.preprocessing import image\n",
    "from keras import optimizers\n",
    "import numpy as np\n",
    "from os import listdir\n",
    "from os.path import isfile, join\n",
    "import matplotlib.pyplot as plt"
   ]
  },
  {
   "cell_type": "code",
   "execution_count": 61,
   "metadata": {},
   "outputs": [],
   "source": [
    "img_width = 150\n",
    "img_height = 150\n",
    "\n",
    "train_data_dir = 'Cat_Dog_Image/Training'\n",
    "validation_data_dir = 'Cat_Dog_Image/Validation'\n",
    "train_samples = 120\n",
    "validation_samples = 30\n",
    "epochs = 20\n",
    "batch_size = 20\n"
   ]
  },
  {
   "cell_type": "code",
   "execution_count": 38,
   "metadata": {},
   "outputs": [],
   "source": [
    "model = Sequential()\n",
    "# Conv2D : Two dimenstional convulational model.\n",
    "# 32 : Input for next layer\n",
    "# (3,3) convulonational windows size\n",
    "model.add(Conv2D(32, (3, 3), input_shape=(150,150,3)))\n",
    "model.add(Activation('relu'))\n",
    "model.add(MaxPooling2D(pool_size=(2, 2)))\n",
    "\n",
    "model.add(Conv2D(32, (3, 3)))\n",
    "model.add(Activation('relu'))\n",
    "model.add(MaxPooling2D(pool_size=(2, 2)))\n",
    "\n",
    "model.add(Conv2D(64, (3, 3)))\n",
    "model.add(Activation('relu'))\n",
    "model.add(MaxPooling2D(pool_size=(2, 2)))\n",
    "\n",
    "model.add(Flatten()) # Output convert into one dimension layer and will go to Dense layer\n",
    "model.add(Dense(64))\n",
    "model.add(Activation('relu'))\n",
    "model.add(Dropout(0.5))\n",
    "model.add(Dense(1))\n",
    "model.add(Activation('sigmoid'))"
   ]
  },
  {
   "cell_type": "code",
   "execution_count": 45,
   "metadata": {},
   "outputs": [],
   "source": [
    "model.compile(loss='binary_crossentropy', \n",
    "              optimizer=keras.optimizers.Adam(lr=.001),\n",
    "              metrics=['accuracy'])"
   ]
  },
  {
   "cell_type": "code",
   "execution_count": 46,
   "metadata": {},
   "outputs": [],
   "source": [
    "train_datagen = ImageDataGenerator(rescale=1. / 255)\n",
    "#test_datagen = ImageDataGenerator(rescale=1. / 255)\n",
    "validation_datagen = ImageDataGenerator(rescale=1. / 255)"
   ]
  },
  {
   "cell_type": "code",
   "execution_count": 47,
   "metadata": {},
   "outputs": [
    {
     "name": "stdout",
     "output_type": "stream",
     "text": [
      "Found 2300 images belonging to 2 classes.\n"
     ]
    }
   ],
   "source": [
    "train_generator = train_datagen.flow_from_directory(\n",
    "    train_data_dir,\n",
    "    target_size=(img_width, img_height),\n",
    "    batch_size=batch_size,\n",
    "    class_mode='binary')"
   ]
  },
  {
   "cell_type": "code",
   "execution_count": 48,
   "metadata": {},
   "outputs": [
    {
     "name": "stdout",
     "output_type": "stream",
     "text": [
      "Found 1200 images belonging to 2 classes.\n"
     ]
    }
   ],
   "source": [
    "validation_generator = validation_datagen.flow_from_directory(\n",
    "    validation_data_dir,\n",
    "    target_size=(img_width, img_height),\n",
    "    batch_size=batch_size,\n",
    "    class_mode='binary')"
   ]
  },
  {
   "cell_type": "code",
   "execution_count": 52,
   "metadata": {},
   "outputs": [
    {
     "name": "stdout",
     "output_type": "stream",
     "text": [
      "Epoch 1/20\n",
      "6/6 [==============================] - 6s 1s/step - loss: 0.6769 - accuracy: 0.6333 - val_loss: 0.6360 - val_accuracy: 0.6400\n",
      "Epoch 2/20\n",
      "6/6 [==============================] - 6s 1s/step - loss: 0.6225 - accuracy: 0.6667 - val_loss: 0.6591 - val_accuracy: 0.6130\n",
      "Epoch 3/20\n",
      "6/6 [==============================] - 6s 1s/step - loss: 0.6839 - accuracy: 0.5917 - val_loss: 0.6496 - val_accuracy: 0.6020\n",
      "Epoch 4/20\n",
      "6/6 [==============================] - 6s 1s/step - loss: 0.6784 - accuracy: 0.5083 - val_loss: 0.6478 - val_accuracy: 0.6110\n",
      "Epoch 5/20\n",
      "6/6 [==============================] - 6s 1s/step - loss: 0.6579 - accuracy: 0.5167 - val_loss: 0.6555 - val_accuracy: 0.5830\n",
      "Epoch 6/20\n",
      "6/6 [==============================] - 6s 1s/step - loss: 0.6259 - accuracy: 0.6500 - val_loss: 0.6595 - val_accuracy: 0.5980\n",
      "Epoch 7/20\n",
      "6/6 [==============================] - 6s 1s/step - loss: 0.6023 - accuracy: 0.6667 - val_loss: 0.6491 - val_accuracy: 0.6100\n",
      "Epoch 8/20\n",
      "6/6 [==============================] - 6s 1s/step - loss: 0.6314 - accuracy: 0.6917 - val_loss: 0.6351 - val_accuracy: 0.6530\n",
      "Epoch 9/20\n",
      "6/6 [==============================] - 6s 1s/step - loss: 0.6849 - accuracy: 0.5417 - val_loss: 0.6324 - val_accuracy: 0.6410\n",
      "Epoch 10/20\n",
      "6/6 [==============================] - 6s 1s/step - loss: 0.6266 - accuracy: 0.6167 - val_loss: 0.6372 - val_accuracy: 0.6470\n",
      "Epoch 11/20\n",
      "6/6 [==============================] - 7s 1s/step - loss: 0.6185 - accuracy: 0.6583 - val_loss: 0.6327 - val_accuracy: 0.6470\n",
      "Epoch 12/20\n",
      "6/6 [==============================] - 7s 1s/step - loss: 0.5657 - accuracy: 0.7000 - val_loss: 0.6180 - val_accuracy: 0.6380\n",
      "Epoch 13/20\n",
      "6/6 [==============================] - 7s 1s/step - loss: 0.5657 - accuracy: 0.7083 - val_loss: 0.6312 - val_accuracy: 0.6400\n",
      "Epoch 14/20\n",
      "6/6 [==============================] - 7s 1s/step - loss: 0.5716 - accuracy: 0.6833 - val_loss: 0.6367 - val_accuracy: 0.6460\n",
      "Epoch 15/20\n",
      "6/6 [==============================] - 7s 1s/step - loss: 0.5904 - accuracy: 0.6417 - val_loss: 0.6862 - val_accuracy: 0.6140\n",
      "Epoch 16/20\n",
      "6/6 [==============================] - 7s 1s/step - loss: 0.5943 - accuracy: 0.6833 - val_loss: 0.6645 - val_accuracy: 0.6260\n",
      "Epoch 17/20\n",
      "6/6 [==============================] - 7s 1s/step - loss: 0.6180 - accuracy: 0.6500 - val_loss: 0.6466 - val_accuracy: 0.6110\n",
      "Epoch 18/20\n",
      "6/6 [==============================] - 7s 1s/step - loss: 0.6645 - accuracy: 0.6083 - val_loss: 0.6181 - val_accuracy: 0.6910\n",
      "Epoch 19/20\n",
      "6/6 [==============================] - 7s 1s/step - loss: 0.6719 - accuracy: 0.5417 - val_loss: 0.6581 - val_accuracy: 0.5940\n",
      "Epoch 20/20\n",
      "6/6 [==============================] - 7s 1s/step - loss: 0.6633 - accuracy: 0.6000 - val_loss: 0.6464 - val_accuracy: 0.6390\n"
     ]
    }
   ],
   "source": [
    "history = model.fit(\n",
    "    train_generator,\n",
    "    steps_per_epoch=train_samples // batch_size,\n",
    "    epochs=epochs,\n",
    "    validation_data=validation_generator,\n",
    "    validation_steps=50)"
   ]
  },
  {
   "cell_type": "code",
   "execution_count": 50,
   "metadata": {},
   "outputs": [
    {
     "data": {
      "image/png": "[encoded data removed]",
      "text/plain": [
       "<Figure size 432x288 with 1 Axes>"
      ]
     },
     "metadata": {
      "needs_background": "light"
     },
     "output_type": "display_data"
    },
    {
     "data": {
      "image/png": "[encoded data removed]",
      "text/plain": [
       "<Figure size 432x288 with 1 Axes>"
      ]
     },
     "metadata": {
      "needs_background": "light"
     },
     "output_type": "display_data"
    }
   ],
   "source": [
    "plt.plot(history.history['accuracy'])\n",
    "plt.plot(history.history['val_accuracy'])\n",
    "plt.title('model accuracy')\n",
    "plt.ylabel('accuracy')\n",
    "plt.xlabel('epoch')\n",
    "plt.legend(['train', 'validation'], loc='upper left')\n",
    "plt.show()\n",
    "# loss\n",
    "plt.plot(history.history['loss'])\n",
    "plt.plot(history.history['val_loss'])\n",
    "plt.title('model loss')\n",
    "plt.ylabel('loss')\n",
    "plt.xlabel('epoch')\n",
    "plt.legend(['train', 'validation'], loc='upper left')\n",
    "plt.show()"
   ]
  },
  {
   "cell_type": "code",
   "execution_count": 53,
   "metadata": {},
   "outputs": [],
   "source": [
    "#Replacing convolution layers with VGG16"
   ]
  },
  {
   "cell_type": "code",
   "execution_count": 139,
   "metadata": {},
   "outputs": [],
   "source": [
    "from keras.applications.vgg16 import VGG16\n",
    "vggmodel = VGG16(weights='imagenet', include_top=False)"
   ]
  },
  {
   "cell_type": "code",
   "execution_count": 140,
   "metadata": {},
   "outputs": [
    {
     "name": "stdout",
     "output_type": "stream",
     "text": [
      "Model: \"vgg16\"\n",
      "_________________________________________________________________\n",
      "Layer (type)                 Output Shape              Param #   \n",
      "=================================================================\n",
      "input_3 (InputLayer)         [(None, None, None, 3)]   0         \n",
      "_________________________________________________________________\n",
      "block1_conv1 (Conv2D)        (None, None, None, 64)    1792      \n",
      "_________________________________________________________________\n",
      "block1_conv2 (Conv2D)        (None, None, None, 64)    36928     \n",
      "_________________________________________________________________\n",
      "block1_pool (MaxPooling2D)   (None, None, None, 64)    0         \n",
      "_________________________________________________________________\n",
      "block2_conv1 (Conv2D)        (None, None, None, 128)   73856     \n",
      "_________________________________________________________________\n",
      "block2_conv2 (Conv2D)        (None, None, None, 128)   147584    \n",
      "_________________________________________________________________\n",
      "block2_pool (MaxPooling2D)   (None, None, None, 128)   0         \n",
      "_________________________________________________________________\n",
      "block3_conv1 (Conv2D)        (None, None, None, 256)   295168    \n",
      "_________________________________________________________________\n",
      "block3_conv2 (Conv2D)        (None, None, None, 256)   590080    \n",
      "_________________________________________________________________\n",
      "block3_conv3 (Conv2D)        (None, None, None, 256)   590080    \n",
      "_________________________________________________________________\n",
      "block3_pool (MaxPooling2D)   (None, None, None, 256)   0         \n",
      "_________________________________________________________________\n",
      "block4_conv1 (Conv2D)        (None, None, None, 512)   1180160   \n",
      "_________________________________________________________________\n",
      "block4_conv2 (Conv2D)        (None, None, None, 512)   2359808   \n",
      "_________________________________________________________________\n",
      "block4_conv3 (Conv2D)        (None, None, None, 512)   2359808   \n",
      "_________________________________________________________________\n",
      "block4_pool (MaxPooling2D)   (None, None, None, 512)   0         \n",
      "_________________________________________________________________\n",
      "block5_conv1 (Conv2D)        (None, None, None, 512)   2359808   \n",
      "_________________________________________________________________\n",
      "block5_conv2 (Conv2D)        (None, None, None, 512)   2359808   \n",
      "_________________________________________________________________\n",
      "block5_conv3 (Conv2D)        (None, None, None, 512)   2359808   \n",
      "_________________________________________________________________\n",
      "block5_pool (MaxPooling2D)   (None, None, None, 512)   0         \n",
      "=================================================================\n",
      "Total params: 14,714,688\n",
      "Trainable params: 14,714,688\n",
      "Non-trainable params: 0\n",
      "_________________________________________________________________\n"
     ]
    }
   ],
   "source": [
    "vggmodel.summary()"
   ]
  },
  {
   "cell_type": "code",
   "execution_count": 138,
   "metadata": {},
   "outputs": [],
   "source": [
    "train_data_dir = 'Cat_Dog_Image/Training'\n",
    "validation_data_dir = 'Cat_Dog_Image/Validation'\n",
    "#test_dir='Cat_Dog_Image/Testing'\n",
    "datagen = ImageDataGenerator(rescale=1./255)\n",
    "test_dataGen = ImageDataGenerator(rescale=1./255)\n",
    "batch_size = 20"
   ]
  },
  {
   "cell_type": "code",
   "execution_count": 105,
   "metadata": {},
   "outputs": [],
   "source": [
    "def extract_features(directory, sample_count):\n",
    "    features = np.zeros(shape=(sample_count,4 ,4, 512))\n",
    "    labels = np.zeros(shape=(sample_count))\n",
    "    generator = datagen.flow_from_directory(\n",
    "        directory,\n",
    "        target_size=(150,150),\n",
    "        batch_size=batch_size,\n",
    "        class_mode='binary')\n",
    "    i=0\n",
    "    for inputs_batch, labels_batch in generator:\n",
    "        features_batch = vggmodel.predict(inputs_batch)\n",
    "        features[i*batch_size : (i+1)*batch_size] = features_batch\n",
    "        labels[i*batch_size : (i+1)*batch_size] = labels_batch\n",
    "        i+=1\n",
    "        if i*batch_size >=sample_count:\n",
    "            break\n",
    "    return features, labels"
   ]
  },
  {
   "cell_type": "code",
   "execution_count": 106,
   "metadata": {},
   "outputs": [
    {
     "name": "stdout",
     "output_type": "stream",
     "text": [
      "Found 2300 images belonging to 2 classes.\n",
      "Found 1200 images belonging to 2 classes.\n"
     ]
    }
   ],
   "source": [
    "train_features, train_labels = extract_features(train_data_dir, 2300)\n",
    "validation_features, validation_labels = extract_features(validation_data_dir, 1200)\n",
    "#test_features, test_labels = extract_features(test_dir, 500)"
   ]
  },
  {
   "cell_type": "code",
   "execution_count": 107,
   "metadata": {},
   "outputs": [],
   "source": [
    "train_features = np.reshape(train_features,(2300, 4* 4* 512))\n",
    "validation_features = np.reshape(validation_features,(1200, 4* 4* 512))\n",
    "#test_features = np.reshape(test_features,(500, 4* 4* 512))"
   ]
  },
  {
   "cell_type": "code",
   "execution_count": 108,
   "metadata": {},
   "outputs": [],
   "source": [
    "model = Sequential()\n",
    "model.add(Dense(64, input_dim=(4* 4* 512)))\n",
    "model.add(Activation('relu'))\n",
    "model.add(Dropout(0.5))\n",
    "model.add(Dense(1))\n",
    "model.add(Activation('sigmoid'))"
   ]
  },
  {
   "cell_type": "code",
   "execution_count": 109,
   "metadata": {},
   "outputs": [],
   "source": [
    "model.compile(loss='binary_crossentropy', \n",
    "              optimizer=keras.optimizers.RMSprop(lr=2e-5),\n",
    "              metrics=['accuracy'])"
   ]
  },
  {
   "cell_type": "code",
   "execution_count": 110,
   "metadata": {},
   "outputs": [
    {
     "name": "stdout",
     "output_type": "stream",
     "text": [
      "Epoch 1/30\n",
      "115/115 [==============================] - 2s 8ms/step - loss: 0.6893 - accuracy: 0.5894 - val_loss: 0.5249 - val_accuracy: 0.7833\n",
      "Epoch 2/30\n",
      "115/115 [==============================] - 1s 8ms/step - loss: 0.5114 - accuracy: 0.7504 - val_loss: 0.4333 - val_accuracy: 0.8258\n",
      "Epoch 3/30\n",
      "115/115 [==============================] - 1s 8ms/step - loss: 0.4425 - accuracy: 0.8048 - val_loss: 0.3814 - val_accuracy: 0.8458\n",
      "Epoch 4/30\n",
      "115/115 [==============================] - 1s 7ms/step - loss: 0.3833 - accuracy: 0.8315 - val_loss: 0.3542 - val_accuracy: 0.8492\n",
      "Epoch 5/30\n",
      "115/115 [==============================] - 1s 7ms/step - loss: 0.3466 - accuracy: 0.8548 - val_loss: 0.3322 - val_accuracy: 0.8625\n",
      "Epoch 6/30\n",
      "115/115 [==============================] - 1s 7ms/step - loss: 0.3269 - accuracy: 0.8670 - val_loss: 0.3177 - val_accuracy: 0.8700\n",
      "Epoch 7/30\n",
      "115/115 [==============================] - 1s 7ms/step - loss: 0.2820 - accuracy: 0.8886 - val_loss: 0.3064 - val_accuracy: 0.8717\n",
      "Epoch 8/30\n",
      "115/115 [==============================] - 1s 7ms/step - loss: 0.2899 - accuracy: 0.8805 - val_loss: 0.2979 - val_accuracy: 0.8750\n",
      "Epoch 9/30\n",
      "115/115 [==============================] - 1s 7ms/step - loss: 0.2684 - accuracy: 0.8882 - val_loss: 0.2902 - val_accuracy: 0.8733\n",
      "Epoch 10/30\n",
      "115/115 [==============================] - 1s 7ms/step - loss: 0.2615 - accuracy: 0.9003 - val_loss: 0.2933 - val_accuracy: 0.8742\n",
      "Epoch 11/30\n",
      "115/115 [==============================] - 1s 7ms/step - loss: 0.2586 - accuracy: 0.8993 - val_loss: 0.2825 - val_accuracy: 0.8775\n",
      "Epoch 12/30\n",
      "115/115 [==============================] - 1s 7ms/step - loss: 0.2416 - accuracy: 0.9021 - val_loss: 0.2788 - val_accuracy: 0.8775\n",
      "Epoch 13/30\n",
      "115/115 [==============================] - 1s 8ms/step - loss: 0.2394 - accuracy: 0.9076 - val_loss: 0.2733 - val_accuracy: 0.8817\n",
      "Epoch 14/30\n",
      "115/115 [==============================] - 1s 8ms/step - loss: 0.2223 - accuracy: 0.9181 - val_loss: 0.2730 - val_accuracy: 0.8808\n",
      "Epoch 15/30\n",
      "115/115 [==============================] - 1s 7ms/step - loss: 0.2194 - accuracy: 0.9207 - val_loss: 0.2679 - val_accuracy: 0.8833\n",
      "Epoch 16/30\n",
      "115/115 [==============================] - 1s 7ms/step - loss: 0.2135 - accuracy: 0.9156 - val_loss: 0.2713 - val_accuracy: 0.8833\n",
      "Epoch 17/30\n",
      "115/115 [==============================] - 1s 7ms/step - loss: 0.2087 - accuracy: 0.9194 - val_loss: 0.2726 - val_accuracy: 0.8817\n",
      "Epoch 18/30\n",
      "115/115 [==============================] - 1s 8ms/step - loss: 0.1921 - accuracy: 0.9305 - val_loss: 0.2638 - val_accuracy: 0.8858\n",
      "Epoch 19/30\n",
      "115/115 [==============================] - 1s 7ms/step - loss: 0.1799 - accuracy: 0.9352 - val_loss: 0.2610 - val_accuracy: 0.8875\n",
      "Epoch 20/30\n",
      "115/115 [==============================] - 1s 7ms/step - loss: 0.1851 - accuracy: 0.9353 - val_loss: 0.2595 - val_accuracy: 0.8908\n",
      "Epoch 21/30\n",
      "115/115 [==============================] - 1s 8ms/step - loss: 0.1816 - accuracy: 0.9387 - val_loss: 0.2652 - val_accuracy: 0.8867\n",
      "Epoch 22/30\n",
      "115/115 [==============================] - 1s 10ms/step - loss: 0.1759 - accuracy: 0.9432 - val_loss: 0.2570 - val_accuracy: 0.8925\n",
      "Epoch 23/30\n",
      "115/115 [==============================] - 1s 9ms/step - loss: 0.1787 - accuracy: 0.9412 - val_loss: 0.2563 - val_accuracy: 0.8908\n",
      "Epoch 24/30\n",
      "115/115 [==============================] - 1s 7ms/step - loss: 0.1746 - accuracy: 0.9347 - val_loss: 0.2571 - val_accuracy: 0.8933\n",
      "Epoch 25/30\n",
      "115/115 [==============================] - 1s 8ms/step - loss: 0.1654 - accuracy: 0.9379 - val_loss: 0.2549 - val_accuracy: 0.8967\n",
      "Epoch 26/30\n",
      "115/115 [==============================] - 1s 7ms/step - loss: 0.1589 - accuracy: 0.9435 - val_loss: 0.2588 - val_accuracy: 0.8892\n",
      "Epoch 27/30\n",
      "115/115 [==============================] - 1s 7ms/step - loss: 0.1552 - accuracy: 0.9439 - val_loss: 0.2551 - val_accuracy: 0.8958\n",
      "Epoch 28/30\n",
      "115/115 [==============================] - 1s 7ms/step - loss: 0.1587 - accuracy: 0.9437 - val_loss: 0.2558 - val_accuracy: 0.8942\n",
      "Epoch 29/30\n",
      "115/115 [==============================] - 1s 7ms/step - loss: 0.1474 - accuracy: 0.9489 - val_loss: 0.2676 - val_accuracy: 0.8842\n",
      "Epoch 30/30\n",
      "115/115 [==============================] - 1s 7ms/step - loss: 0.1353 - accuracy: 0.9497 - val_loss: 0.2525 - val_accuracy: 0.8975\n"
     ]
    }
   ],
   "source": [
    "history = model.fit(\n",
    "    train_features, train_labels,\n",
    "    epochs=30,\n",
    "    batch_size=20,\n",
    "    validation_data=(validation_features, validation_labels))"
   ]
  },
  {
   "cell_type": "code",
   "execution_count": 111,
   "metadata": {},
   "outputs": [
    {
     "data": {
      "image/png": "[encoded data removed]",
      "text/plain": [
       "<Figure size 432x288 with 1 Axes>"
      ]
     },
     "metadata": {
      "needs_background": "light"
     },
     "output_type": "display_data"
    },
    {
     "data": {
      "image/png": "[encoded data removed]",
      "text/plain": [
       "<Figure size 432x288 with 1 Axes>"
      ]
     },
     "metadata": {
      "needs_background": "light"
     },
     "output_type": "display_data"
    }
   ],
   "source": [
    "plt.plot(history.history['accuracy'])\n",
    "plt.plot(history.history['val_accuracy'])\n",
    "plt.title('model accuracy')\n",
    "plt.ylabel('accuracy')\n",
    "plt.xlabel('epoch')\n",
    "plt.legend(['train', 'validation'], loc='upper left')\n",
    "plt.show()\n",
    "# loss\n",
    "plt.plot(history.history['loss'])\n",
    "plt.plot(history.history['val_loss'])\n",
    "plt.title('model loss')\n",
    "plt.ylabel('loss')\n",
    "plt.xlabel('epoch')\n",
    "plt.legend(['train', 'validation'], loc='upper left')\n",
    "plt.show()"
   ]
  },
  {
   "cell_type": "code",
   "execution_count": 112,
   "metadata": {},
   "outputs": [],
   "source": [
    "#Fine Tuning"
   ]
  },
  {
   "cell_type": "code",
   "execution_count": 113,
   "metadata": {},
   "outputs": [],
   "source": [
    "vggmodel.trainable = True\n",
    "set_trainable = False\n",
    "for layer in vggmodel.layers:\n",
    "    if layer.name == 'block5_conv1':\n",
    "        set_trainable = True\n",
    "    if set_trainable:\n",
    "        layer.trainable = True\n",
    "    else:\n",
    "        layer.trainable = False"
   ]
  },
  {
   "cell_type": "code",
   "execution_count": 114,
   "metadata": {},
   "outputs": [
    {
     "name": "stdout",
     "output_type": "stream",
     "text": [
      "Model: \"vgg16\"\n",
      "_________________________________________________________________\n",
      "Layer (type)                 Output Shape              Param #   \n",
      "=================================================================\n",
      "input_2 (InputLayer)         [(None, None, None, 3)]   0         \n",
      "_________________________________________________________________\n",
      "block1_conv1 (Conv2D)        (None, None, None, 64)    1792      \n",
      "_________________________________________________________________\n",
      "block1_conv2 (Conv2D)        (None, None, None, 64)    36928     \n",
      "_________________________________________________________________\n",
      "block1_pool (MaxPooling2D)   (None, None, None, 64)    0         \n",
      "_________________________________________________________________\n",
      "block2_conv1 (Conv2D)        (None, None, None, 128)   73856     \n",
      "_________________________________________________________________\n",
      "block2_conv2 (Conv2D)        (None, None, None, 128)   147584    \n",
      "_________________________________________________________________\n",
      "block2_pool (MaxPooling2D)   (None, None, None, 128)   0         \n",
      "_________________________________________________________________\n",
      "block3_conv1 (Conv2D)        (None, None, None, 256)   295168    \n",
      "_________________________________________________________________\n",
      "block3_conv2 (Conv2D)        (None, None, None, 256)   590080    \n",
      "_________________________________________________________________\n",
      "block3_conv3 (Conv2D)        (None, None, None, 256)   590080    \n",
      "_________________________________________________________________\n",
      "block3_pool (MaxPooling2D)   (None, None, None, 256)   0         \n",
      "_________________________________________________________________\n",
      "block4_conv1 (Conv2D)        (None, None, None, 512)   1180160   \n",
      "_________________________________________________________________\n",
      "block4_conv2 (Conv2D)        (None, None, None, 512)   2359808   \n",
      "_________________________________________________________________\n",
      "block4_conv3 (Conv2D)        (None, None, None, 512)   2359808   \n",
      "_________________________________________________________________\n",
      "block4_pool (MaxPooling2D)   (None, None, None, 512)   0         \n",
      "_________________________________________________________________\n",
      "block5_conv1 (Conv2D)        (None, None, None, 512)   2359808   \n",
      "_________________________________________________________________\n",
      "block5_conv2 (Conv2D)        (None, None, None, 512)   2359808   \n",
      "_________________________________________________________________\n",
      "block5_conv3 (Conv2D)        (None, None, None, 512)   2359808   \n",
      "_________________________________________________________________\n",
      "block5_pool (MaxPooling2D)   (None, None, None, 512)   0         \n",
      "=================================================================\n",
      "Total params: 14,714,688\n",
      "Trainable params: 7,079,424\n",
      "Non-trainable params: 7,635,264\n",
      "_________________________________________________________________\n"
     ]
    }
   ],
   "source": [
    "vggmodel.summary()"
   ]
  },
  {
   "cell_type": "code",
   "execution_count": 125,
   "metadata": {},
   "outputs": [],
   "source": [
    "model = Sequential()\n",
    "model.add(Dense(256, input_dim=(4* 4* 512)))\n",
    "model.add(Activation('relu'))\n",
    "model.add(Dropout(0.5))\n",
    "model.add(Dense(1))\n",
    "model.add(Activation('sigmoid'))"
   ]
  },
  {
   "cell_type": "code",
   "execution_count": 126,
   "metadata": {},
   "outputs": [],
   "source": [
    "model.compile(loss='binary_crossentropy', \n",
    "              optimizer=keras.optimizers.RMSprop(lr=2e-5),\n",
    "              metrics=['accuracy'])"
   ]
  },
  {
   "cell_type": "code",
   "execution_count": 127,
   "metadata": {},
   "outputs": [
    {
     "name": "stdout",
     "output_type": "stream",
     "text": [
      "Epoch 1/30\n",
      "115/115 [==============================] - 3s 24ms/step - loss: 0.6439 - accuracy: 0.6352 - val_loss: 0.4262 - val_accuracy: 0.8258\n",
      "Epoch 2/30\n",
      "115/115 [==============================] - 3s 22ms/step - loss: 0.4027 - accuracy: 0.8355 - val_loss: 0.3466 - val_accuracy: 0.8708\n",
      "Epoch 3/30\n",
      "115/115 [==============================] - 3s 22ms/step - loss: 0.3468 - accuracy: 0.8534 - val_loss: 0.3177 - val_accuracy: 0.8733\n",
      "Epoch 4/30\n",
      "115/115 [==============================] - 2s 21ms/step - loss: 0.3016 - accuracy: 0.8706 - val_loss: 0.2958 - val_accuracy: 0.8783\n",
      "Epoch 5/30\n",
      "115/115 [==============================] - 3s 22ms/step - loss: 0.2767 - accuracy: 0.8858 - val_loss: 0.2895 - val_accuracy: 0.8858\n",
      "Epoch 6/30\n",
      "115/115 [==============================] - 3s 22ms/step - loss: 0.2446 - accuracy: 0.9103 - val_loss: 0.3136 - val_accuracy: 0.8633\n",
      "Epoch 7/30\n",
      "115/115 [==============================] - 3s 22ms/step - loss: 0.2413 - accuracy: 0.9083 - val_loss: 0.2699 - val_accuracy: 0.8833\n",
      "Epoch 8/30\n",
      "115/115 [==============================] - 3s 25ms/step - loss: 0.2108 - accuracy: 0.9202 - val_loss: 0.2664 - val_accuracy: 0.8883\n",
      "Epoch 9/30\n",
      "115/115 [==============================] - 3s 24ms/step - loss: 0.2046 - accuracy: 0.9241 - val_loss: 0.2610 - val_accuracy: 0.8908\n",
      "Epoch 10/30\n",
      "115/115 [==============================] - 3s 22ms/step - loss: 0.1915 - accuracy: 0.9225 - val_loss: 0.2706 - val_accuracy: 0.8842\n",
      "Epoch 11/30\n",
      "115/115 [==============================] - 3s 27ms/step - loss: 0.1732 - accuracy: 0.9352 - val_loss: 0.2699 - val_accuracy: 0.8892\n",
      "Epoch 12/30\n",
      "115/115 [==============================] - 3s 25ms/step - loss: 0.1575 - accuracy: 0.9403 - val_loss: 0.2558 - val_accuracy: 0.8942\n",
      "Epoch 13/30\n",
      "115/115 [==============================] - 3s 24ms/step - loss: 0.1669 - accuracy: 0.9414 - val_loss: 0.2600 - val_accuracy: 0.8933\n",
      "Epoch 14/30\n",
      "115/115 [==============================] - 3s 22ms/step - loss: 0.1569 - accuracy: 0.9441 - val_loss: 0.2522 - val_accuracy: 0.8942\n",
      "Epoch 15/30\n",
      "115/115 [==============================] - 3s 29ms/step - loss: 0.1506 - accuracy: 0.9425 - val_loss: 0.2487 - val_accuracy: 0.8925\n",
      "Epoch 16/30\n",
      "115/115 [==============================] - 3s 24ms/step - loss: 0.1560 - accuracy: 0.9402 - val_loss: 0.2571 - val_accuracy: 0.8942\n",
      "Epoch 17/30\n",
      "115/115 [==============================] - 3s 24ms/step - loss: 0.1360 - accuracy: 0.9490 - val_loss: 0.2470 - val_accuracy: 0.8950\n",
      "Epoch 18/30\n",
      "115/115 [==============================] - 3s 25ms/step - loss: 0.1288 - accuracy: 0.9493 - val_loss: 0.2469 - val_accuracy: 0.8942\n",
      "Epoch 19/30\n",
      "115/115 [==============================] - 3s 23ms/step - loss: 0.1414 - accuracy: 0.9544 - val_loss: 0.2483 - val_accuracy: 0.8950\n",
      "Epoch 20/30\n",
      "115/115 [==============================] - 3s 24ms/step - loss: 0.1279 - accuracy: 0.9578 - val_loss: 0.2494 - val_accuracy: 0.8942\n",
      "Epoch 21/30\n",
      "115/115 [==============================] - 3s 25ms/step - loss: 0.1113 - accuracy: 0.9671 - val_loss: 0.2493 - val_accuracy: 0.8958\n",
      "Epoch 22/30\n",
      "115/115 [==============================] - 3s 24ms/step - loss: 0.1042 - accuracy: 0.9682 - val_loss: 0.2461 - val_accuracy: 0.8975\n",
      "Epoch 23/30\n",
      "115/115 [==============================] - 3s 23ms/step - loss: 0.1083 - accuracy: 0.9636 - val_loss: 0.2590 - val_accuracy: 0.8942\n",
      "Epoch 24/30\n",
      "115/115 [==============================] - 3s 24ms/step - loss: 0.1050 - accuracy: 0.9604 - val_loss: 0.2464 - val_accuracy: 0.8967\n",
      "Epoch 25/30\n",
      "115/115 [==============================] - 3s 22ms/step - loss: 0.1035 - accuracy: 0.9698 - val_loss: 0.2539 - val_accuracy: 0.8942\n",
      "Epoch 26/30\n",
      "115/115 [==============================] - 3s 22ms/step - loss: 0.1026 - accuracy: 0.9653 - val_loss: 0.2496 - val_accuracy: 0.8975\n",
      "Epoch 27/30\n",
      "115/115 [==============================] - 3s 23ms/step - loss: 0.0872 - accuracy: 0.9741 - val_loss: 0.2497 - val_accuracy: 0.8983\n",
      "Epoch 28/30\n",
      "115/115 [==============================] - 3s 22ms/step - loss: 0.0883 - accuracy: 0.9737 - val_loss: 0.2512 - val_accuracy: 0.8933\n",
      "Epoch 29/30\n",
      "115/115 [==============================] - 3s 22ms/step - loss: 0.0810 - accuracy: 0.9808 - val_loss: 0.2487 - val_accuracy: 0.8992\n",
      "Epoch 30/30\n",
      "115/115 [==============================] - 3s 22ms/step - loss: 0.0967 - accuracy: 0.9723 - val_loss: 0.2585 - val_accuracy: 0.8933\n"
     ]
    }
   ],
   "source": [
    "history = model.fit(\n",
    "    train_features, train_labels,\n",
    "    epochs=30,\n",
    "    batch_size=20,\n",
    "    validation_data=(validation_features, validation_labels))"
   ]
  },
  {
   "cell_type": "code",
   "execution_count": 128,
   "metadata": {},
   "outputs": [
    {
     "data": {
      "image/png": "[encoded data removed]",
      "text/plain": [
       "<Figure size 432x288 with 1 Axes>"
      ]
     },
     "metadata": {
      "needs_background": "light"
     },
     "output_type": "display_data"
    },
    {
     "data": {
      "image/png": "[encoded data removed]",
      "text/plain": [
       "<Figure size 432x288 with 1 Axes>"
      ]
     },
     "metadata": {
      "needs_background": "light"
     },
     "output_type": "display_data"
    }
   ],
   "source": [
    "plt.plot(history.history['accuracy'])\n",
    "plt.plot(history.history['val_accuracy'])\n",
    "plt.title('model accuracy')\n",
    "plt.ylabel('accuracy')\n",
    "plt.xlabel('epoch')\n",
    "plt.legend(['train', 'validation'], loc='upper left')\n",
    "plt.show()\n",
    "# loss\n",
    "plt.plot(history.history['loss'])\n",
    "plt.plot(history.history['val_loss'])\n",
    "plt.title('model loss')\n",
    "plt.ylabel('loss')\n",
    "plt.xlabel('epoch')\n",
    "plt.legend(['train', 'validation'], loc='upper left')\n",
    "plt.show()"
   ]
  },
  {
   "cell_type": "code",
   "execution_count": 129,
   "metadata": {},
   "outputs": [
    {
     "name": "stdout",
     "output_type": "stream",
     "text": [
      "Test loss: 0.25357523560523987\n",
      "Test accuracy: 0.8960000276565552\n"
     ]
    }
   ],
   "source": [
    "score = model.evaluate(test_features, test_labels, verbose=0)\n",
    "print('Test loss:', score[0])\n",
    "print('Test accuracy:', score[1])"
   ]
  }
 ],
 "metadata": {
  "kernelspec": {
   "display_name": "Python 3",
   "language": "python",
   "name": "python3"
  },
  "language_info": {
   "codemirror_mode": {
    "name": "ipython",
    "version": 3
   },
   "file_extension": ".py",
   "mimetype": "text/x-python",
   "name": "python",
   "nbconvert_exporter": "python",
   "pygments_lexer": "ipython3",
   "version": "3.8.5"
  }
 },
 "nbformat": 4,
 "nbformat_minor": 4
}
